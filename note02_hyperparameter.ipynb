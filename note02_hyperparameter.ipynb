{
 "cells": [
  {
   "attachments": {},
   "cell_type": "markdown",
   "metadata": {},
   "source": [
    "# Exercise 2: \n",
    "\n",
    "Hypothesis 1: Whether there is a significant differnece based on different hyperparameters?\n",
    "\n",
    "Hypothesis 2: the accuracy of model without validation set is significantly different from the model selected from the validations set."
   ]
  },
  {
   "cell_type": "code",
   "execution_count": 5,
   "metadata": {},
   "outputs": [],
   "source": [
    "from sklearn.datasets import load_iris\n",
    "from sklearn.ensemble import RandomForestClassifier\n",
    "from sklearn.model_selection import train_test_split"
   ]
  },
  {
   "cell_type": "code",
   "execution_count": 2,
   "metadata": {},
   "outputs": [
    {
     "name": "stdout",
     "output_type": "stream",
     "text": [
      "Matrix dimension of X:  (150, 4)\n",
      "Matrix dimension of y:  (150,)\n"
     ]
    }
   ],
   "source": [
    "data = load_iris()\n",
    "X = data['data']\n",
    "y = data['target']\n",
    "print(\"Matrix dimension of X: \", X.shape)\n",
    "print(\"Matrix dimension of y: \", y.shape)"
   ]
  },
  {
   "attachments": {},
   "cell_type": "markdown",
   "metadata": {},
   "source": [
    "## Random Forest\n",
    "\n",
    "Have several hyperparameters, but we only focus on two of them:\n",
    "\n",
    "1. `n_estimators`: the number of trees in the forest.\n",
    "2. `max_depth`: the maximum depth of the tree.\n",
    "3. `min_samples_split`: the minimum number of samples required to split an internal node.\n",
    "\n",
    "We hypothesized that changing these two hyperparameters will significantly affect the accuracy of the model. Let's grid search these two hyperparameters and see if we can find a significant difference.\n"
   ]
  },
  {
   "cell_type": "code",
   "execution_count": 89,
   "metadata": {},
   "outputs": [],
   "source": [
    "ls_n_estimators = [5, 100, 500]\n",
    "ls_max_depth = [1, 3, 5]"
   ]
  },
  {
   "cell_type": "code",
   "execution_count": 92,
   "metadata": {},
   "outputs": [],
   "source": [
    "x_train, x_test, y_train, y_test = train_test_split(X, y, test_size=0.2)\n",
    "ls_results = []\n",
    "for n_estimators in ls_n_estimators:\n",
    "    for max_depth in ls_max_depth:\n",
    "            clf = RandomForestClassifier(n_estimators=n_estimators, max_depth=max_depth)\n",
    "            clf.fit(x_train, y_train)\n",
    "            ls_results.append([n_estimators, max_depth, clf.score(x_test, y_test)])"
   ]
  },
  {
   "cell_type": "code",
   "execution_count": 99,
   "metadata": {},
   "outputs": [
    {
     "data": {
      "text/plain": [
       "Text(47.25, 0.5, 'n_estimators')"
      ]
     },
     "execution_count": 99,
     "metadata": {},
     "output_type": "execute_result"
    },
    {
     "data": {
      "image/png": "[encoded data removed]",
      "text/plain": [
       "<Figure size 640x480 with 2 Axes>"
      ]
     },
     "metadata": {},
     "output_type": "display_data"
    }
   ],
   "source": [
    "import numpy as np\n",
    "heatmap_data = np.array(ls_results)[:, 2].reshape(len(ls_n_estimators), len(ls_max_depth))\n",
    "heatmap_data\n",
    "# visualize the heatmap\n",
    "import matplotlib.pyplot as plt\n",
    "import seaborn as sns\n",
    "sns.set_theme(style=\"darkgrid\", palette=\"Set2\")\n",
    "sns.heatmap(heatmap_data,\n",
    "            vmin=0.5, vmax=1.0, annot=True,\n",
    "            # cbar=False,\n",
    "            xticklabels=ls_max_depth, yticklabels=ls_n_estimators)\n",
    "plt.xlabel('max_depth')\n",
    "plt.ylabel('n_estimators')"
   ]
  },
  {
   "cell_type": "code",
   "execution_count": 104,
   "metadata": {},
   "outputs": [
    {
     "name": "stdout",
     "output_type": "stream",
     "text": [
      "0\n",
      "1\n",
      "2\n",
      "3\n",
      "4\n",
      "5\n",
      "6\n",
      "7\n",
      "8\n",
      "9\n",
      "10\n",
      "11\n",
      "12\n",
      "13\n",
      "14\n",
      "15\n",
      "16\n",
      "17\n",
      "18\n",
      "19\n",
      "20\n",
      "21\n",
      "22\n",
      "23\n",
      "24\n",
      "25\n",
      "26\n",
      "27\n",
      "28\n",
      "29\n",
      "30\n",
      "31\n",
      "32\n",
      "33\n",
      "34\n",
      "35\n",
      "36\n",
      "37\n",
      "38\n",
      "39\n",
      "40\n",
      "41\n",
      "42\n",
      "43\n",
      "44\n",
      "45\n",
      "46\n",
      "47\n",
      "48\n",
      "49\n",
      "50\n",
      "51\n",
      "52\n",
      "53\n",
      "54\n",
      "55\n",
      "56\n",
      "57\n",
      "58\n",
      "59\n",
      "60\n",
      "61\n",
      "62\n",
      "63\n",
      "64\n",
      "65\n",
      "66\n",
      "67\n",
      "68\n",
      "69\n",
      "70\n",
      "71\n",
      "72\n",
      "73\n",
      "74\n",
      "75\n",
      "76\n",
      "77\n",
      "78\n",
      "79\n",
      "80\n",
      "81\n",
      "82\n",
      "83\n",
      "84\n",
      "85\n",
      "86\n",
      "87\n",
      "88\n",
      "89\n",
      "90\n",
      "91\n",
      "92\n",
      "93\n",
      "94\n",
      "95\n",
      "96\n",
      "97\n",
      "98\n",
      "99\n"
     ]
    }
   ],
   "source": [
    "diff_maxmin = []\n",
    "\n",
    "for _ in range(100):\n",
    "    x_train, x_test, y_train, y_test = train_test_split(X, y, test_size=0.2)\n",
    "    ls_results = []\n",
    "    for n_estimators in ls_n_estimators:\n",
    "        for max_depth in ls_max_depth:\n",
    "            clf = RandomForestClassifier(n_estimators=n_estimators, max_depth=max_depth)\n",
    "            clf.fit(x_train, y_train)\n",
    "            ls_results.append([n_estimators, max_depth, clf.score(x_test, y_test)])\n",
    "    scores = np.array(ls_results)[:, 2]\n",
    "    # get the max and min difference\n",
    "    diff_maxmin += [scores.max() - scores.min()]\n"
   ]
  },
  {
   "cell_type": "code",
   "execution_count": 116,
   "metadata": {},
   "outputs": [
    {
     "data": {
      "text/plain": [
       "94"
      ]
     },
     "execution_count": 116,
     "metadata": {},
     "output_type": "execute_result"
    }
   ],
   "source": [
    "np.sum(np.array(diff_maxmin) > 0)"
   ]
  },
  {
   "cell_type": "code",
   "execution_count": 117,
   "metadata": {},
   "outputs": [
    {
     "name": "stderr",
     "output_type": "stream",
     "text": [
      "No artists with labels found to put in legend.  Note that artists whose label start with an underscore are ignored when legend() is called with no argument.\n"
     ]
    },
    {
     "data": {
      "text/plain": [
       "(0.0, 1.0)"
      ]
     },
     "execution_count": 117,
     "metadata": {},
     "output_type": "execute_result"
    },
    {
     "data": {
      "image/png": "[encoded data removed]",
      "text/plain": [
       "<Figure size 1000x500 with 1 Axes>"
      ]
     },
     "metadata": {},
     "output_type": "display_data"
    }
   ],
   "source": [
    "sns.set_theme(style=\"darkgrid\", palette=\"Set2\")\n",
    "plt.figure(figsize=(10, 5))\n",
    "sns.histplot(diff_maxmin, binwidth=.05, alpha=0.5)\n",
    "\n",
    "# post-process the plot\n",
    "plt.title(\"blahlba\", loc=\"left\")\n",
    "plt.legend()\n",
    "plt.xlabel(\"Classification Accuracy\")\n",
    "plt.xlim(0, 1)\n",
    "# plt.ylim(0, 25)"
   ]
  },
  {
   "cell_type": "code",
   "execution_count": null,
   "metadata": {},
   "outputs": [],
   "source": []
  }
 ],
 "metadata": {
  "kernelspec": {
   "display_name": "Python 3",
   "language": "python",
   "name": "python3"
  },
  "language_info": {
   "codemirror_mode": {
    "name": "ipython",
    "version": 3
   },
   "file_extension": ".py",
   "mimetype": "text/x-python",
   "name": "python",
   "nbconvert_exporter": "python",
   "pygments_lexer": "ipython3",
   "version": "3.9.16"
  },
  "orig_nbformat": 4
 },
 "nbformat": 4,
 "nbformat_minor": 2
}
